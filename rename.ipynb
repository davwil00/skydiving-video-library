{
 "cells": [
  {
   "metadata": {
    "ExecuteTime": {
     "end_time": "2024-11-05T19:50:13.875145Z",
     "start_time": "2024-11-05T19:50:13.820052Z"
    }
   },
   "cell_type": "code",
   "source": [
    "import java.io.File\n",
    "val dir = \"/Users/david.williams/Movies/skydiving/2024-11-04/session2\""
   ],
   "outputs": [],
   "execution_count": 5
  },
  {
   "metadata": {
    "collapsed": true,
    "ExecuteTime": {
     "end_time": "2024-11-05T19:50:14.089612Z",
     "start_time": "2024-11-05T19:50:13.979119Z"
    }
   },
   "cell_type": "code",
   "source": [
    "// Remove any brackets from the filenames\n",
    "File(dir).listFiles { _, name -> name.contains(\"(\") }\n",
    "    .forEach { file -> file.renameTo(File(\"$dir/${file.name.replace(Regex(\"\"\"\\(\\d\\)\"\"\"), \"\")}\")) }"
   ],
   "outputs": [],
   "execution_count": 6
  },
  {
   "metadata": {
    "ExecuteTime": {
     "end_time": "2024-11-05T19:50:14.243189Z",
     "start_time": "2024-11-05T19:50:14.112900Z"
    }
   },
   "cell_type": "code",
   "source": [
    "// Rename the file based on the top cam filename\n",
    "val topCamVideos = File(dir).listFiles { _, name -> name.startsWith(\"source02\") }.sorted()\n",
    "val sideCamVideos = File(dir).listFiles { _, name -> name.startsWith(\"Flight\") }.sorted()\n",
    "\n",
    "println(sideCamVideos.size)\n",
    "    \n",
    "topCamVideos.zip(sideCamVideos).forEach { (top, side) ->\n",
    "//    println(\"renaming to $dir/source01-${top.name.substring(9)}\")\n",
    "    side.renameTo(File(\"$dir/source01-${top.name.substring(9)}\"))\n",
    "}"
   ],
   "outputs": [
    {
     "name": "stdout",
     "output_type": "stream",
     "text": [
      "8\n"
     ]
    }
   ],
   "execution_count": 7
  },
  {
   "metadata": {
    "ExecuteTime": {
     "end_time": "2024-11-05T19:50:14.375216Z",
     "start_time": "2024-11-05T19:50:14.371828Z"
    }
   },
   "cell_type": "code",
   "source": "",
   "outputs": [],
   "execution_count": null
  },
  {
   "metadata": {},
   "cell_type": "code",
   "outputs": [],
   "execution_count": null,
   "source": ""
  }
 ],
 "metadata": {
  "kernelspec": {
   "display_name": "Kotlin",
   "language": "kotlin",
   "name": "kotlin"
  },
  "language_info": {
   "name": "kotlin",
   "version": "1.9.23",
   "mimetype": "text/x-kotlin",
   "file_extension": ".kt",
   "pygments_lexer": "kotlin",
   "codemirror_mode": "text/x-kotlin",
   "nbconvert_exporter": ""
  }
 },
 "nbformat": 4,
 "nbformat_minor": 0
}
